{
 "cells": [
  {
   "cell_type": "code",
   "execution_count": null,
   "metadata": {},
   "outputs": [
    {
     "ename": "",
     "evalue": "",
     "output_type": "error",
     "traceback": [
      "\u001b[1;31mFailed to start the Kernel. \n",
      "\u001b[1;31m/home1/linghaoj/anaconda3/envs/env-p2p/lib/python3.9/site-packages/traitlets/traitlets.py:2548: FutureWarning: Supporting extra quotes around strings is deprecated in traitlets 5.0. You can use 'hmac-sha256' instead of '\"hmac-sha256\"' if you require traitlets >=5.\n",
      "\u001b[1;31m  warn(\n",
      "\u001b[1;31m/home1/linghaoj/anaconda3/envs/env-p2p/lib/python3.9/site-packages/traitlets/traitlets.py:2499: FutureWarning: Supporting extra quotes around Bytes is deprecated in traitlets 5.0. Use 'c94f7bac-04a6-4022-9e86-619df471d4e9' instead of 'b\"c94f7bac-04a6-4022-9e86-619df471d4e9\"'.\n",
      "\u001b[1;31m  warn(\n",
      "\u001b[1;31mResource temporarily unavailable (src/thread.cpp:269). \n",
      "\u001b[1;31mView Jupyter <a href='command:jupyter.viewOutput'>log</a> for further details."
     ]
    }
   ],
   "source": [
    "import os\n",
    "\n",
    "ckpt=\"/project/jonmay_231/linghaoj/reproduce/ckpt/\"\n",
    "directories = [d for d in os.listdir(ckpt) if os.path.isdir(os.path.join(ckpt, d))]\n",
    "zh_en_directories = [d for d in directories if d.endswith(\"[zh-en]\")]\n",
    "\n",
    "for dir in zh_en_directories:\n",
    "    dir_path = os.path.join(ckpt, dir)\n",
    "    file_path = os.path.join(dir_path, \"best.score\")\n",
    "    with open(file_path, \"r\") as f:\n",
    "        lines = f.readlines()\n",
    "        BLEU = lines[2]\n",
    "        BLONDE = lines[3]\n",
    "        BLONDE_detail = lines[10]\n",
    "        COMET = lines[14]\n",
    "    print(dir, \"\\n\", BLEU, BLONDE, BLONDE_detail, COMET)"
   ]
  },
  {
   "cell_type": "code",
   "execution_count": 1,
   "metadata": {},
   "outputs": [
    {
     "name": "stdout",
     "output_type": "stream",
     "text": [
      "loaded /project/jonmay_231/linghaoj/reproduce/ckpt1/concat-0-1-0.2[zh-en][tmp-8192]\n"
     ]
    }
   ],
   "source": [
    "%%bash\n",
    "\n",
    "set -e\n",
    "\n",
    "src=zh\n",
    "tgt=en\n",
    "lang=${src}-${tgt}\n",
    "root=/project/jonmay_231/linghaoj/reproduce\n",
    "repo=/project/jonmay_231/linghaoj/concat-src-only\n",
    "model=${repo}/concat_models\n",
    "data=/project/jonmay_231/linghaoj/canmt/bwb/data\n",
    "bin=${root}/data/${lang}/bin\n",
    "script_path=${repo}/scripts\n",
    "COMET=/project/jonmay_231/jacqueline/contextual-mt/preds/comet\n",
    "ckptfile=ckpt1\n",
    "a=concat\n",
    "checkpointfile=checkpoint_best.pt\n",
    "\n",
    "cd $root\n",
    "\n",
    "ckpt=${root}/$ckptfile/concat-0-1-0.2[zh-en][tmp-8192]\n",
    "echo \"loaded $ckpt\"\n",
    "pred=$ckpt/result\n",
    "mkdir -p $pred\n",
    "bash sh/${lang}/generate.sh \\\n",
    "    --a=$a \\\n",
    "    --t=reg \\\n",
    "    --bin=$bin \\\n",
    "    --data=$data \\\n",
    "    --src=${src} --tgt=${tgt} \\\n",
    "    --repo=$repo \\\n",
    "    --ckpt=$ckpt \\\n",
    "    --pred=$pred \\\n",
    "    --checkpoint=$checkpointfile \\\n",
    "    --COMET=$COMET"
   ]
  }
 ],
 "metadata": {
  "kernelspec": {
   "display_name": "env-p2p",
   "language": "python",
   "name": "python3"
  },
  "language_info": {
   "codemirror_mode": {
    "name": "ipython",
    "version": 3
   },
   "file_extension": ".py",
   "mimetype": "text/x-python",
   "name": "python",
   "nbconvert_exporter": "python",
   "pygments_lexer": "ipython3",
   "version": "3.9.15"
  },
  "orig_nbformat": 4
 },
 "nbformat": 4,
 "nbformat_minor": 2
}
